{
 "nbformat": 4,
 "nbformat_minor": 0,
 "metadata": {
  "colab": {
   "name": "MinMax and Alpha Beta pruning.ipynb",
   "provenance": [],
   "authorship_tag": "ABX9TyN6Tu3a6WdFjsq+HTzJnRA5"
  },
  "kernelspec": {
   "name": "python3",
   "display_name": "Python 3"
  }
 },
 "cells": [
  {
   "cell_type": "markdown",
   "source": [
    "# Tutorial 9\n",
    "## MA course in Artificial Intelligence 2022/2023\n"
   ],
   "metadata": {
    "collapsed": false
   }
  },
  {
   "cell_type": "code",
   "execution_count": 1,
   "outputs": [],
   "source": [
    "import time\n",
    "import numpy as np"
   ],
   "metadata": {
    "collapsed": false
   }
  },
  {
   "cell_type": "markdown",
   "source": [
    "## Min-Max and alpha-beta pruning for Tic-Tac-Toe game"
   ],
   "metadata": {
    "collapsed": false
   }
  },
  {
   "cell_type": "code",
   "metadata": {
    "id": "wG1TxgVwVusx",
    "executionInfo": {
     "status": "ok",
     "timestamp": 1638281707806,
     "user_tz": -60,
     "elapsed": 308,
     "user": {
      "displayName": "Umberto Junior Mele",
      "photoUrl": "https://lh3.googleusercontent.com/a-/AOh14Giw0iR9vS5IODhHeTZGbR8GwOqnIsDCXtQ8zf30=s64",
      "userId": "04357784316495716135"
     }
    }
   },
   "source": [
    "class TicTacToeGame:\n",
    "    # > The TicTacToeGame class is a class that represents a game of Tic Tac Toe\n",
    "    def __init__(self):\n",
    "        \"\"\"\n",
    "        The __init__ function initializes the game by setting the winner to None, the current state to an empty 3x3 grid,\n",
    "        and the player turn to X.\n",
    "        \"\"\"\n",
    "        self.winner = None\n",
    "        self.current_state = np.array([['.', '.', '.'],\n",
    "                                       ['.', '.', '.'],\n",
    "                                       ['.', '.', '.']])\n",
    "        # Player X always plays first\n",
    "        self.player_turn = 'X'\n",
    "\n",
    "    def draw_board(self):\n",
    "        \"\"\"\n",
    "        It prints the current state of the board\n",
    "        \"\"\"\n",
    "        for i in range(0, 3):\n",
    "            for j in range(0, 3):\n",
    "                print('{}|'.format(self.current_state[i][j]), end=\" \")\n",
    "            print()\n",
    "\n",
    "    # Determines if the made move is a legal move\n",
    "    def is_valid(self, px, py):\n",
    "        \"\"\"\n",
    "        If the position is outside the board or the position is already taken, return False, otherwise return True\n",
    "\n",
    "        :param px: The x coordinate of the position we want to check\n",
    "        :param py: The y coordinate of the move\n",
    "        :return: The function is_valid is returning a boolean value.\n",
    "        \"\"\"\n",
    "        if px < 0 or px > 2 or py < 0 or py > 2:\n",
    "            return False\n",
    "        elif self.current_state[px][py] != '.':\n",
    "            return False\n",
    "        else:\n",
    "            return True\n",
    "\n",
    "    # Checks if the game has ended and returns the winner in each case\n",
    "    def is_end(self):\n",
    "        \"\"\"\n",
    "        If there's a winner, return the winner. If there's a tie, return a tie. If the game is still going, return None\n",
    "        :return: The function is_end() returns the winner of the game.\n",
    "        \"\"\"\n",
    "        # Vertical win\n",
    "        for i in range(0, 3):\n",
    "            if (self.current_state[0][i] != '.' and\n",
    "                    self.current_state[0][i] == self.current_state[1][i] and\n",
    "                    self.current_state[1][i] == self.current_state[2][i]):\n",
    "                return self.current_state[0][i]\n",
    "\n",
    "        # Horizontal win\n",
    "        for i in range(0, 3):\n",
    "            if self.current_state[i].tolist() == ['X', 'X', 'X']:\n",
    "                return 'X'\n",
    "            elif self.current_state[i].tolist() == ['O', 'O', 'O']:\n",
    "                return 'O'\n",
    "\n",
    "        # Main diagonal win\n",
    "        if (self.current_state[0][0] != '.' and\n",
    "                self.current_state[0][0] == self.current_state[1][1] and\n",
    "                self.current_state[0][0] == self.current_state[2][2]):\n",
    "            return self.current_state[0][0]\n",
    "\n",
    "        # Second diagonal win\n",
    "        if (self.current_state[0][2] != '.' and\n",
    "                self.current_state[0][2] == self.current_state[1][1] and\n",
    "                self.current_state[0][2] == self.current_state[2][0]):\n",
    "            return self.current_state[0][2]\n",
    "\n",
    "        # Is whole board full?\n",
    "        for i in range(0, 3):\n",
    "            for j in range(0, 3):\n",
    "                # There's an empty field, we continue the game\n",
    "                if self.current_state[i][j] == '.':\n",
    "                    return None\n",
    "\n",
    "        # It's a tie!\n",
    "        return '.'\n",
    "\n",
    "    def state(self):\n",
    "        \"\"\"\n",
    "        If the game is over, return 'game over', otherwise return 'continue'\n",
    "        :return: The state of the game.\n",
    "        \"\"\"\n",
    "        self.winner = self.is_end()\n",
    "        if self.winner in [\"X\", \"O\", \".\"]:\n",
    "            return 'game over'\n",
    "        return 'continue'\n",
    "\n",
    "    def static_eval(self):\n",
    "        \"\"\"\n",
    "        If X has won, return 1; if O has won, return -1; else, return 0\n",
    "        :return: The static evaluation function returns 1 if the winner is X, -1 if the winner is O, and 0 if there is no\n",
    "        winner.\n",
    "        \"\"\"\n",
    "        if self.winner == \"X\":\n",
    "            return 1\n",
    "        elif self.winner == \"O\":\n",
    "            return -1\n",
    "        else:\n",
    "            return 0\n",
    "\n",
    "    def children(self):\n",
    "        \"\"\"\n",
    "        For each possible move, create a new game state with the move applied, and yield that state\n",
    "        \"\"\"\n",
    "        if self.player_turn == 'X':\n",
    "            for i in range(3):\n",
    "                for j in range(3):\n",
    "                    if self.is_valid(i, j):\n",
    "                        child = TicTacToeGame()\n",
    "                        child.current_state = np.copy(self.current_state)\n",
    "                        child.current_state[i][j] = \"X\"\n",
    "                        child.player_turn = \"O\"\n",
    "                        yield child\n",
    "\n",
    "        elif self.player_turn == 'O':\n",
    "            for i in range(3):\n",
    "                for j in range(3):\n",
    "                    if self.is_valid(i, j):\n",
    "                        child = TicTacToeGame()\n",
    "                        child.current_state = np.copy(self.current_state)\n",
    "                        child.current_state[i][j] = \"O\"\n",
    "                        child.player_turn = \"X\"\n",
    "                        yield child"
   ],
   "execution_count": 2,
   "outputs": []
  },
  {
   "cell_type": "code",
   "execution_count": 3,
   "outputs": [],
   "source": [
    "def play(game, strategy, alphabeta=False, to_plot=True):\n",
    "    \"\"\"\n",
    "    It takes a game, a strategy, and a boolean value to determine whether to use alpha-beta pruning or not. It then plays\n",
    "    the game until it's over, and returns the result\n",
    "\n",
    "    :param game: the game object\n",
    "    :param strategy: The strategy to be used\n",
    "    :param alphabeta: True if you want to use alpha-beta pruning, False if you want to use minimax, defaults to False\n",
    "    (optional)\n",
    "    :param to_plot: If True, the board will be printed after each move, defaults to True (optional)\n",
    "    :return: the state value of the current state.\n",
    "    \"\"\"\n",
    "    remaining_pos = 9\n",
    "    while True:\n",
    "        alpha, beta = -2, 2\n",
    "        result = game.is_end()\n",
    "        if to_plot:\n",
    "            game.draw_board()\n",
    "            print()\n",
    "\n",
    "        # Printing the appropriate message if the game has ended\n",
    "        if result is not None:\n",
    "            if to_plot:\n",
    "                if result == 'X':\n",
    "                    print('The winner is X!')\n",
    "                elif result == 'O':\n",
    "                    print('The winner is O!')\n",
    "                elif result == '.':\n",
    "                    print(\"It's a tie!\")\n",
    "            return\n",
    "\n",
    "        qx, qy = None, None\n",
    "        if game.player_turn == 'X':\n",
    "            max_move = -2\n",
    "            start_time = time.time()\n",
    "            for i in range(3):\n",
    "                for j in range(3):\n",
    "                    if beta <= alpha:\n",
    "                        break\n",
    "                    if game.is_valid(i, j):\n",
    "                        game.current_state[i][j] = \"X\"\n",
    "                        game.player_turn = \"O\"\n",
    "                        state_value = strategy(game, remaining_pos, True, alpha, beta)\n",
    "                        game.current_state[i][j] = \".\"\n",
    "                        game.player_turn = \"X\"\n",
    "                        if state_value > max_move:\n",
    "                            m, qx, qy = state_value, i, j\n",
    "                            max_move = m\n",
    "                        if alphabeta:\n",
    "                            alpha = max(alpha, state_value)\n",
    "\n",
    "                if beta <= alpha:\n",
    "                    break\n",
    "\n",
    "            end_time = time.time()\n",
    "\n",
    "            if to_plot:\n",
    "                print('Evaluation time: {} sec'.format(round(end_time - start_time, 3)))\n",
    "                print('move X: X = {}, Y = {}'.format(qx, qy))\n",
    "                if alphabeta:\n",
    "                    print(f'alpha {alpha}, beta {beta}')\n",
    "            game.current_state[qx][qy] = 'X'\n",
    "            game.player_turn = 'O'\n",
    "            remaining_pos -= 1\n",
    "\n",
    "        else:\n",
    "            min_move = 2\n",
    "            start_time = time.time()\n",
    "            for i in range(3):\n",
    "                for j in range(3):\n",
    "                    if beta <= alpha:\n",
    "                        break\n",
    "                    if game.is_valid(i, j):\n",
    "                        game.current_state[i][j] = \"O\"\n",
    "                        game.player_turn = \"X\"\n",
    "                        state_value = strategy(game, remaining_pos, False, alpha, beta)\n",
    "                        game.current_state[i][j] = \".\"\n",
    "                        game.player_turn = \"O\"\n",
    "                        if state_value < min_move:\n",
    "                            m, qx, qy = state_value, i, j\n",
    "                            min_move = m\n",
    "                        if alphabeta:\n",
    "                            beta = min(beta, state_value)\n",
    "\n",
    "                if beta <= alpha:\n",
    "                    break\n",
    "\n",
    "            end_time = time.time()\n",
    "            if to_plot:\n",
    "                print('Evaluation time: {} sec'.format(round(end_time - start_time, 3)))\n",
    "                print('move O: X = {}, Y = {}'.format(qx, qy))\n",
    "                if alphabeta:\n",
    "                    print(f'alpha {alpha}, beta {beta}')\n",
    "            game.current_state[qx][qy] = 'O'\n",
    "            game.player_turn = 'X'\n",
    "            remaining_pos -= 1"
   ],
   "metadata": {
    "collapsed": false
   }
  },
  {
   "cell_type": "markdown",
   "metadata": {
    "id": "kcXmZDa2JIIi"
   },
   "source": [
    "## Min Max"
   ]
  },
  {
   "cell_type": "code",
   "metadata": {
    "id": "vhHZp4D-JLFT",
    "executionInfo": {
     "status": "ok",
     "timestamp": 1638281707806,
     "user_tz": -60,
     "elapsed": 4,
     "user": {
      "displayName": "Umberto Junior Mele",
      "photoUrl": "https://lh3.googleusercontent.com/a-/AOh14Giw0iR9vS5IODhHeTZGbR8GwOqnIsDCXtQ8zf30=s64",
      "userId": "04357784316495716135"
     }
    }
   },
   "source": [
    "def minimax(game, depth, maximizing_player, *args):\n",
    "    \"\"\"\n",
    "    If we're at the end of the game, return the static evaluation of the current position.\n",
    "    Otherwise, if we're the maximizing player, return the maximum of the static evaluations of the children.\n",
    "    Otherwise, return the minimum of the static evaluations of the children.\n",
    "\n",
    "    :param game: the game object\n",
    "    :param depth: the depth of the search tree\n",
    "    :param maximizing_player: True if the player is the maximizing player, False if the player is the minimizing player\n",
    "    :return: The minimax function returns the best possible move for the player.\n",
    "    \"\"\"\n",
    "    if depth == 0 or 'game over' in game.state():\n",
    "        return game.static_eval()\n",
    "\n",
    "    if maximizing_player:\n",
    "        max_eval = -2\n",
    "        for child in game.children():\n",
    "            eval_position = minimax(child, depth - 1, maximizing_player=False)\n",
    "            max_eval = max(max_eval, eval_position)\n",
    "        return max_eval\n",
    "\n",
    "    else:\n",
    "        min_eval = 2\n",
    "        for child in game.children():\n",
    "            eval_position = minimax(child, depth - 1, maximizing_player=True)\n",
    "            min_eval = min(min_eval, eval_position)\n",
    "        return min_eval"
   ],
   "execution_count": 4,
   "outputs": []
  },
  {
   "cell_type": "code",
   "metadata": {
    "colab": {
     "base_uri": "https://localhost:8080/"
    },
    "id": "A17oD-Ltrr0Y",
    "executionInfo": {
     "status": "ok",
     "timestamp": 1638281738913,
     "user_tz": -60,
     "elapsed": 30795,
     "user": {
      "displayName": "Umberto Junior Mele",
      "photoUrl": "https://lh3.googleusercontent.com/a-/AOh14Giw0iR9vS5IODhHeTZGbR8GwOqnIsDCXtQ8zf30=s64",
      "userId": "04357784316495716135"
     }
    },
    "outputId": "32121006-511e-4fa1-c770-b498de6dcec1"
   },
   "source": [
    "g = TicTacToeGame()\n",
    "play(g, minimax)"
   ],
   "execution_count": 5,
   "outputs": [
    {
     "name": "stdout",
     "output_type": "stream",
     "text": [
      ".| .| .| \n",
      ".| .| .| \n",
      ".| .| .| \n",
      "\n",
      "Evaluation time: 20.882 sec\n",
      "move X: X = 0, Y = 0\n",
      "X| .| .| \n",
      ".| .| .| \n",
      ".| .| .| \n",
      "\n",
      "Evaluation time: 2.33 sec\n",
      "move O: X = 0, Y = 2\n",
      "X| .| O| \n",
      ".| .| .| \n",
      ".| .| .| \n",
      "\n",
      "Evaluation time: 0.299 sec\n",
      "move X: X = 1, Y = 0\n",
      "X| .| O| \n",
      "X| .| .| \n",
      ".| .| .| \n",
      "\n",
      "Evaluation time: 0.033 sec\n",
      "move O: X = 2, Y = 0\n",
      "X| .| O| \n",
      "X| .| .| \n",
      "O| .| .| \n",
      "\n",
      "Evaluation time: 0.006 sec\n",
      "move X: X = 1, Y = 1\n",
      "X| .| O| \n",
      "X| X| .| \n",
      "O| .| .| \n",
      "\n",
      "Evaluation time: 0.001 sec\n",
      "move O: X = 2, Y = 2\n",
      "X| .| O| \n",
      "X| X| .| \n",
      "O| .| O| \n",
      "\n",
      "Evaluation time: 0.0 sec\n",
      "move X: X = 1, Y = 2\n",
      "X| .| O| \n",
      "X| X| X| \n",
      "O| .| O| \n",
      "\n",
      "The winner is X!\n"
     ]
    }
   ]
  },
  {
   "cell_type": "code",
   "metadata": {
    "colab": {
     "base_uri": "https://localhost:8080/"
    },
    "id": "7VcZi4Vp8S8z",
    "executionInfo": {
     "status": "ok",
     "timestamp": 1638284677089,
     "user_tz": -60,
     "elapsed": 2938181,
     "user": {
      "displayName": "Umberto Junior Mele",
      "photoUrl": "https://lh3.googleusercontent.com/a-/AOh14Giw0iR9vS5IODhHeTZGbR8GwOqnIsDCXtQ8zf30=s64",
      "userId": "04357784316495716135"
     }
    },
    "outputId": "67bbe759-ecb8-4f76-c023-dd9bd9ba0df2"
   },
   "source": [
    "list_time = []\n",
    "\n",
    "for _ in range(10):\n",
    "    g = TicTacToeGame()\n",
    "    start = time.time()\n",
    "    play(g, minimax, to_plot=False)\n",
    "    list_time.append(time.time() - start)\n",
    "\n",
    "print(\"average time for min-max {:.3f} sec.\".format(np.mean(list_time)))\n",
    "print(\"std time for min-max {:.3f} sec.\".format(np.std(list_time)))"
   ],
   "execution_count": 12,
   "outputs": [
    {
     "name": "stdout",
     "output_type": "stream",
     "text": [
      "average time for min-max 24.220 sec.\n",
      "std time for min-max 1.020 sec.\n"
     ]
    }
   ]
  },
  {
   "cell_type": "markdown",
   "metadata": {
    "id": "7CRbWwtgJMAV"
   },
   "source": [
    "# Alpha Beta pruning"
   ]
  },
  {
   "cell_type": "code",
   "metadata": {
    "id": "DMOHIMq7JOca",
    "executionInfo": {
     "status": "ok",
     "timestamp": 1638284677089,
     "user_tz": -60,
     "elapsed": 12,
     "user": {
      "displayName": "Umberto Junior Mele",
      "photoUrl": "https://lh3.googleusercontent.com/a-/AOh14Giw0iR9vS5IODhHeTZGbR8GwOqnIsDCXtQ8zf30=s64",
      "userId": "04357784316495716135"
     }
    }
   },
   "source": [
    "def minimax_pruned(game, depth, maximizing_player, alpha, beta):\n",
    "    \"\"\"\n",
    "    If the game is over, return the static evaluation of the game.\n",
    "    Otherwise, if it's the maximizing player's turn, return the maximum of the static evaluations of the children, and if it's the minimizing player's turn, return the minimum of the static evaluations of the children.\n",
    "\n",
    "    :param game: the game object\n",
    "    :param depth: the depth of the search tree\n",
    "    :param maximizing_player: True if the current player is the maximising player,\n",
    "                              False if the current player is the minimising player\n",
    "    :param alpha: the best value that the maximising player has found so far\n",
    "    :param beta: the best value that the maximising player currently can guarantee at this point or above\n",
    "    :return: The minimax_pruned function returns the evaluation of the position.\n",
    "    \"\"\"\n",
    "    if depth == 0 or 'game over' in game.state():\n",
    "        return game.static_eval()\n",
    "\n",
    "    if maximizing_player:\n",
    "        max_eval = -2\n",
    "        for child in game.children():\n",
    "            eval_position = minimax_pruned(child, depth - 1, False, alpha, beta)\n",
    "            max_eval = max(max_eval, eval_position)\n",
    "            alpha = max(alpha, eval_position)\n",
    "            if beta <= alpha:\n",
    "                break\n",
    "        return max_eval\n",
    "\n",
    "    else:\n",
    "        min_eval = 2\n",
    "        for child in game.children():\n",
    "            eval_position = minimax_pruned(child, depth - 1, True, alpha, beta)\n",
    "            min_eval = min(min_eval, eval_position)\n",
    "            beta = min(beta, eval_position)\n",
    "            if beta <= alpha:\n",
    "                break\n",
    "        return min_eval"
   ],
   "execution_count": 8,
   "outputs": []
  },
  {
   "cell_type": "code",
   "metadata": {
    "colab": {
     "base_uri": "https://localhost:8080/"
    },
    "id": "rMfz65cIrv1X",
    "executionInfo": {
     "status": "ok",
     "timestamp": 1638284677749,
     "user_tz": -60,
     "elapsed": 669,
     "user": {
      "displayName": "Umberto Junior Mele",
      "photoUrl": "https://lh3.googleusercontent.com/a-/AOh14Giw0iR9vS5IODhHeTZGbR8GwOqnIsDCXtQ8zf30=s64",
      "userId": "04357784316495716135"
     }
    },
    "outputId": "548288cc-217b-4723-a89c-791a9051203f"
   },
   "source": [
    "# test on problem\n",
    "g = TicTacToeGame()\n",
    "play(g, minimax_pruned, alphabeta=True)"
   ],
   "execution_count": 9,
   "outputs": [
    {
     "name": "stdout",
     "output_type": "stream",
     "text": [
      ".| .| .| \n",
      ".| .| .| \n",
      ".| .| .| \n",
      "\n",
      "Evaluation time: 0.244 sec\n",
      "move X: X = 0, Y = 0\n",
      "alpha 1, beta 2\n",
      "X| .| .| \n",
      ".| .| .| \n",
      ".| .| .| \n",
      "\n",
      "Evaluation time: 0.142 sec\n",
      "move O: X = 0, Y = 2\n",
      "alpha -2, beta 0\n",
      "X| .| O| \n",
      ".| .| .| \n",
      ".| .| .| \n",
      "\n",
      "Evaluation time: 0.042 sec\n",
      "move X: X = 1, Y = 0\n",
      "alpha 1, beta 2\n",
      "X| .| O| \n",
      "X| .| .| \n",
      ".| .| .| \n",
      "\n",
      "Evaluation time: 0.011 sec\n",
      "move O: X = 2, Y = 0\n",
      "alpha -2, beta -1\n",
      "X| .| O| \n",
      "X| .| .| \n",
      "O| .| .| \n",
      "\n",
      "Evaluation time: 0.003 sec\n",
      "move X: X = 1, Y = 1\n",
      "alpha 1, beta 2\n",
      "X| .| O| \n",
      "X| X| .| \n",
      "O| .| .| \n",
      "\n",
      "Evaluation time: 0.001 sec\n",
      "move O: X = 2, Y = 2\n",
      "alpha -2, beta -1\n",
      "X| .| O| \n",
      "X| X| .| \n",
      "O| .| O| \n",
      "\n",
      "Evaluation time: 0.0 sec\n",
      "move X: X = 1, Y = 2\n",
      "alpha 1, beta 2\n",
      "X| .| O| \n",
      "X| X| X| \n",
      "O| .| O| \n",
      "\n",
      "The winner is X!\n"
     ]
    }
   ]
  },
  {
   "cell_type": "code",
   "metadata": {
    "colab": {
     "base_uri": "https://localhost:8080/"
    },
    "id": "XmI3HW8v9HjW",
    "executionInfo": {
     "status": "ok",
     "timestamp": 1638285228184,
     "user_tz": -60,
     "elapsed": 550442,
     "user": {
      "displayName": "Umberto Junior Mele",
      "photoUrl": "https://lh3.googleusercontent.com/a-/AOh14Giw0iR9vS5IODhHeTZGbR8GwOqnIsDCXtQ8zf30=s64",
      "userId": "04357784316495716135"
     }
    },
    "outputId": "ed7aeeb3-4d54-45f9-9852-7c09e1bf6cb2"
   },
   "source": [
    "list_time = []\n",
    "\n",
    "for _ in range(10):\n",
    "    g = TicTacToeGame()\n",
    "    start = time.time()\n",
    "    play(g, minimax_pruned, alphabeta=True, to_plot=False)\n",
    "    list_time.append(time.time() - start)\n",
    "\n",
    "print(\"average time for alpha-beta pruning {:.3f} sec.\".format(np.mean(list_time)))\n",
    "print(\"std time for alpha-beta pruning {:.3f} sec.\".format(np.std(list_time)))"
   ],
   "execution_count": 11,
   "outputs": [
    {
     "name": "stdout",
     "output_type": "stream",
     "text": [
      "average time for alpha-beta pruning 0.451 seconds.\n",
      "std time for alpha-beta pruning 0.062 seconds.\n"
     ]
    }
   ]
  },
  {
   "cell_type": "code",
   "execution_count": null,
   "outputs": [],
   "source": [],
   "metadata": {
    "collapsed": false
   }
  }
 ]
}
