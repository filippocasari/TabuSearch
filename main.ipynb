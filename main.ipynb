{
 "cells": [
  {
   "cell_type": "code",
   "execution_count": 1,
   "metadata": {},
   "outputs": [],
   "source": [
    "#!rm -r AI2022MA/\n",
    "#!git clone https://github.com/UmbertoJr/AI2022MA.git &> /dev/null"
   ]
  },
  {
   "cell_type": "code",
   "execution_count": 2,
   "metadata": {},
   "outputs": [
    {
     "name": "stdout",
     "output_type": "stream",
     "text": [
      "name: eil76\n",
      "nPoints: 76\n",
      "best_sol: 538.0\n"
     ]
    }
   ],
   "source": [
    "# Imports\n",
    "\n",
    "from AI2022MA.IO_manager.io_tsp import TSP_Instance_Creator\n",
    "# if you are running from your local remove the prefix AI2020 (comment the previous line and uncomment the following line)\n",
    "#from IO_manager.io_tsp import TSP_Instance_Creator\n",
    "\n",
    "ic = TSP_Instance_Creator(\"standard\", 'eil76.tsp')\n",
    "ic.print_info()\n",
    "#ic.plot_data()"
   ]
  },
  {
   "cell_type": "code",
   "execution_count": 3,
   "metadata": {},
   "outputs": [],
   "source": [
    "%matplotlib notebook\n",
    "import time\n",
    "from IPython import display\n",
    "from matplotlib import pyplot as plt\n",
    "\n",
    "\n",
    "def plot_tour(instance, tour, ant):\n",
    "    \"\"\"plot iterativerly the tour for that ant\n",
    "\n",
    "    Args:\n",
    "        instance (TSP_Instance_Creator): TSP problem\n",
    "        tour (list): tour of the ant\n",
    "        ant (int): ant number\n",
    "    \"\"\"\n",
    "    plt.figure(figsize=(8, 8))\n",
    "    plt.grid()\n",
    "    plt.title(f\"Tour Ant # {ant}\")\n",
    "    plt.scatter(instance.points[:, 1], instance.points[:, 2])\n",
    "    for t in range(len(tour)-1):\n",
    "        xy1, xy2 = tour[t], tour[t+1]\n",
    "        plt.plot([instance.points[xy1, 1], instance.points[xy2, 1]], [\n",
    "                 instance.points[xy1, 2], instance.points[xy2, 2]], color=\"blue\")\n",
    "        display.clear_output(wait=True)\n",
    "        display.display(plt.gcf())\n",
    "        time.sleep(0.1)"
   ]
  },
  {
   "cell_type": "code",
   "execution_count": 86,
   "metadata": {},
   "outputs": [],
   "source": [
    "import numpy as np\n",
    "import random\n",
    "from AI2022MA.solvers import local_search\n",
    "from AI2022MA.solvers.constructive_algorithms import nn\n",
    "from AI2022MA.solvers.local_search import TwoOpt\n",
    "from threading import Thread\n",
    "from time import sleep\n",
    "\n",
    "class TabuSearch():\n",
    "    def __init__(self, instance, time_expiration):\n",
    "        self.instance=instance\n",
    "        self.n = instance.nPoints\n",
    "        self.dist_mat = instance.dist_matrix\n",
    "        self.s0, self.L_nn = nn(instance.dist_matrix,\n",
    "                            starting_node=np.random.choice(self.n))\n",
    "        self.sBest= self.s0\n",
    "        #random.shuffle(self.sBest)\n",
    "        print(\"initial len: \", self.compute_distance_tour(self.sBest))\n",
    "        self.Candidate= self.sBest\n",
    "        print(self.Candidate)\n",
    "        self.tabu_List=[]\n",
    "        self.size_list= 100\n",
    "        self.stop_after_secs =time_expiration\n",
    "        \n",
    "        self.sol_length =0. \n",
    "        self.list_val =[]\n",
    "        self.list_val2 =[]\n",
    "    \n",
    "    def compute_distance_tour(self, sol):\n",
    "        length_tour =0.\n",
    "        for i in range(len(sol)-1):\n",
    "            length_tour+=self.dist_mat[sol[i], sol[i+1]]\n",
    "        length_tour+=self.dist_mat[sol[-1], sol[0]]\n",
    "        return length_tour\n",
    "    \n",
    "    def check_tabuList(self, move):\n",
    "        #if(move in self.tabu_List):\n",
    "            #print(f\"invalid move in tabu list: \")\n",
    "        return move in self.tabu_List\n",
    "    \n",
    "    def getNeightbors(self, Candidate):\n",
    "        sNeighbors=[]\n",
    "        \n",
    "\n",
    "        for _ in range(10):\n",
    "            \n",
    "            '''\n",
    "            random1 = np.random.randint(low=0, high=(len(Candidate_copy)))\n",
    "            random2 = np.random.randint(low=0, high=(len(Candidate_copy)))\n",
    "            random3 = np.random.randint(low=0, high=(len(Candidate_copy)))\n",
    "            random4 = np.random.randint(low=0, high=(len(Candidate_copy)))\n",
    "            while(random1==random2 or random3 == random4):\n",
    "                random1 = np.random.randint(low=0, high=(len(Candidate_copy)))\n",
    "                random2 = np.random.randint(low=0, high=(len(Candidate_copy)))\n",
    "                random3 = np.random.randint(low=0, high=(len(Candidate_copy)))\n",
    "                random4 = np.random.randint(low=0, high=(len(Candidate_copy)))\n",
    "            \n",
    "            #print(\"random 1\", random1, \"random2\", random2)\n",
    "            tmp = Candidate_copy[random1]\n",
    "            Candidate_copy[random1] = Candidate_copy[random2]\n",
    "            Candidate_copy[random2] = tmp\n",
    "            tmp = Candidate_copy[random3]\n",
    "            Candidate_copy[random3] = Candidate_copy[random4]\n",
    "            Candidate_copy[random3] = tmp'''\n",
    "            length = self.compute_distance_tour(Candidate)\n",
    "            #print(type(Candidate))\n",
    "            \n",
    "            Candidate = next(TwoOpt.local_search(Candidate, length, self.dist_mat))[0]\n",
    "            if(isinstance(Candidate, np.ndarray )):\n",
    "                Candidate =Candidate.tolist()\n",
    "            #print(\"solution changed: \", Candidate_copy)\n",
    "            #print(Candidate_copy == self.Candidate)\n",
    "            #print(\"Cost :\", self.compute_distance_tour(Candidate_copy))\n",
    "            #print(f\"swaped city {city1} with city {city2}\")\n",
    "            sNeighbors.append(Candidate)\n",
    "        return sNeighbors\n",
    "        \n",
    "    def solve(self):\n",
    "        time_elapsing = Thread(target=lambda: sleep(self.stop_after_secs))\n",
    "        time_elapsing.start()\n",
    "        self.it =0\n",
    "        self.it2=0\n",
    "        np.random.seed(0)\n",
    "        best_sCandidate = self.Candidate\n",
    "        while(time_elapsing.is_alive()):\n",
    "            fitness_sBest = self.compute_distance_tour(self.sBest)\n",
    "            if(self.it%50000==0 and self.it!=0):\n",
    "                print(f\"iteration # {self.it}\")\n",
    "            self.it += 1\n",
    "            #print(type(best_sCandidate))\n",
    "            sNeighborhood = self.getNeightbors(best_sCandidate)\n",
    "            best_sCandidate = sNeighborhood[0]\n",
    "            #random.shuffle(best_sCandidate)\n",
    "            \n",
    "            for sCandidate in sNeighborhood:\n",
    "                #print(sCandidate==best_sCandidate)\n",
    "                fitness_n = self.compute_distance_tour(sCandidate)\n",
    "                self.it2+=1\n",
    "                self.list_val.append(self.compute_distance_tour(self.sBest))\n",
    "                fitness_bestCandidate=self.compute_distance_tour(best_sCandidate)\n",
    "                self.list_val2.append(fitness_bestCandidate)\n",
    "                \n",
    "                if((not self.check_tabuList( sCandidate)) and fitness_n < fitness_bestCandidate):\n",
    "                    best_sCandidate= sCandidate\n",
    "                if(fitness_bestCandidate<fitness_sBest):\n",
    "                    #print(\"best solution found\")\n",
    "                    self.sBest = best_sCandidate\n",
    "                \n",
    "                \n",
    "                #if(best_sCandidate==100000000):\n",
    "                 #   best_sCandidate= sCandidate\n",
    "                 #   continue\n",
    "                \n",
    "            self.tabu_List.append(best_sCandidate)\n",
    "            \n",
    "            if(len(self.tabu_List)>self.size_list):\n",
    "                self.tabu_List.remove(self.tabu_List[0])\n",
    "            #self.Candidate=best_sCandidate\n",
    "        self.sol_length = self.compute_distance_tour(self.sBest)\n",
    "        return self.sBest"
   ]
  },
  {
   "cell_type": "code",
   "execution_count": 87,
   "metadata": {},
   "outputs": [
    {
     "name": "stdout",
     "output_type": "stream",
     "text": [
      "initial len:  673.0\n",
      "[16, 50, 5, 67, 74, 75, 66, 33, 45, 51, 26, 44, 28, 47, 46, 35, 68, 70, 59, 69, 19, 36, 4, 14, 56, 12, 53, 18, 34, 7, 6, 52, 13, 10, 65, 64, 37, 9, 57, 71, 38, 8, 31, 43, 2, 15, 62, 32, 72, 0, 42, 40, 41, 63, 21, 61, 27, 73, 1, 29, 3, 25, 11, 39, 49, 17, 24, 54, 30, 23, 48, 22, 55, 60, 20, 58]\n",
      "solution proposed by NN: [16, 50, 5, 67, 74, 75, 66, 33, 45, 51, 26, 44, 28, 47, 46, 35, 68, 70, 59, 69, 19, 36, 4, 14, 56, 12, 53, 18, 34, 7, 6, 52, 13, 10, 65, 64, 37, 9, 57, 71, 38, 8, 31, 43, 2, 15, 62, 32, 72, 0, 42, 40, 41, 63, 21, 61, 27, 73, 1, 29, 3, 25, 11, 39, 49, 17, 24, 54, 30, 23, 48, 22, 55, 60, 20, 58]\n",
      "solution by Tabu Search: [24, 54, 17, 49, 31, 43, 2, 39, 16, 50, 5, 67, 1, 61, 21, 42, 0, 72, 32, 62, 15, 48, 23, 22, 55, 40, 41, 63, 60, 20, 27, 73, 29, 3, 74, 75, 66, 25, 11, 6, 34, 7, 45, 33, 51, 26, 44, 28, 47, 46, 35, 68, 70, 59, 69, 19, 36, 4, 14, 56, 12, 53, 18, 52, 13, 58, 10, 65, 64, 37, 9, 30, 57, 71, 38, 8]\n",
      "len NN: 673.0, len tabu_Search: 569.0\n"
     ]
    }
   ],
   "source": [
    "tab_search = TabuSearch(ic, 10)\n",
    "sol = tab_search.solve()\n",
    "print(f\"solution proposed by NN: {tab_search.s0}\")\n",
    "print(\"solution by Tabu Search:\", sol)\n",
    "print(f\"len NN: {tab_search.compute_distance_tour(tab_search.s0)}, len tabu_Search: {tab_search.sol_length}\")\n"
   ]
  },
  {
   "cell_type": "code",
   "execution_count": 88,
   "metadata": {},
   "outputs": [
    {
     "data": {
      "image/png": "[encoded data removed]",
      "text/plain": [
       "<Figure size 432x288 with 1 Axes>"
      ]
     },
     "metadata": {
      "needs_background": "light"
     },
     "output_type": "display_data"
    }
   ],
   "source": [
    "%matplotlib inline\n",
    "import matplotlib.pyplot as plt\n",
    "plt.plot(list(range(tab_search.it2)), tab_search.list_val)\n",
    "plt.grid()\n",
    "plt.show()"
   ]
  }
 ],
 "metadata": {
  "kernelspec": {
   "display_name": "Python 3",
   "language": "python",
   "name": "python3"
  },
  "language_info": {
   "codemirror_mode": {
    "name": "ipython",
    "version": 3
   },
   "file_extension": ".py",
   "mimetype": "text/x-python",
   "name": "python",
   "nbconvert_exporter": "python",
   "pygments_lexer": "ipython3",
   "version": "3.10.2"
  },
  "orig_nbformat": 4,
  "vscode": {
   "interpreter": {
    "hash": "aee8b7b246df8f9039afb4144a1f6fd8d2ca17a180786b69acc140d282b71a49"
   }
  }
 },
 "nbformat": 4,
 "nbformat_minor": 2
}
